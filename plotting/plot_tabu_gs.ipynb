{
 "cells": [
  {
   "cell_type": "code",
   "execution_count": 1,
   "metadata": {},
   "outputs": [],
   "source": [
    "import pandas as pd\n",
    "import matplotlib.pyplot as plt\n",
    "import numpy as np\n",
    "\n",
    "from glob import glob\n",
    "import os\n",
    "\n",
    "from ast import literal_eval"
   ]
  },
  {
   "cell_type": "code",
   "execution_count": null,
   "metadata": {},
   "outputs": [],
   "source": [
    "# Read our results\n",
    "\n",
    "data = dict()\n",
    "# To read the solution as a list\n",
    "list_converter = literal_eval\n",
    "\n",
    "results_csvs = glob(os.path.join(os.pardir, \"tabu_gs_results\", \"*.csv\"))\n",
    "for file_path in results_csvs:\n",
    "    # Read csv\n",
    "    df = pd.read_csv(file_path, converters={\"final_solution\": list_converter,\n",
    "                                            \"initial_solution\": list_converter})\n",
    "    file_name = file_path.split(\"/\")[-1]\n",
    "    instance_name = file_name.split(\"_\")[0]\n",
    "    # Drop the cvs extension\n",
    "    method_name = \"_\".join(file_name.split(\"_\")[1:])[:-4]\n",
    "    if instance_name not in data.keys():\n",
    "        data[instance_name] = dict()\n",
    "    data[instance_name][method_name] = df\n",
    "data.keys()"
   ]
  }
 ],
 "metadata": {
  "kernelspec": {
   "display_name": "base",
   "language": "python",
   "name": "python3"
  },
  "language_info": {
   "codemirror_mode": {
    "name": "ipython",
    "version": 3
   },
   "file_extension": ".py",
   "mimetype": "text/x-python",
   "name": "python",
   "nbconvert_exporter": "python",
   "pygments_lexer": "ipython3",
   "version": "3.9.13"
  }
 },
 "nbformat": 4,
 "nbformat_minor": 2
}
